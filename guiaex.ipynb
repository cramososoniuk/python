{
 "cells": [
  {
   "cell_type": "markdown",
   "metadata": {},
   "source": [
    "# Python 🐍 Guía de Ejercicios"
   ]
  },
  {
   "cell_type": "markdown",
   "metadata": {},
   "source": [
    "#### 1. Crear un programa que muestre por pantalla el texto ¡Hola Mundo!"
   ]
  },
  {
   "cell_type": "code",
   "execution_count": 4,
   "metadata": {},
   "outputs": [
    {
     "name": "stdout",
     "output_type": "stream",
     "text": [
      "¡Hola Mundo!\n"
     ]
    }
   ],
   "source": [
    "print ('¡Hola Mundo!')"
   ]
  },
  {
   "cell_type": "markdown",
   "metadata": {},
   "source": [
    "#### 2. Crear un programa que almacene el texto ¡Hola Mundo! en una variable y luego imprima dicho contenido por pantalla."
   ]
  },
  {
   "cell_type": "code",
   "execution_count": 5,
   "metadata": {},
   "outputs": [
    {
     "name": "stdout",
     "output_type": "stream",
     "text": [
      "¡Hola Mundo!\n"
     ]
    }
   ],
   "source": [
    "hola_mundo = '¡Hola Mundo!'\n",
    "\n",
    "print (hola_mundo)"
   ]
  },
  {
   "cell_type": "markdown",
   "metadata": {},
   "source": [
    "#### 3. Crear un programa que pregunte el nombre del usuario y después de que el usuario lo introduzca muestre por pantalla la cadena ¡Hola < nombre >!, donde < nombre > es el nombre que el usuario haya introducido."
   ]
  },
  {
   "cell_type": "code",
   "execution_count": 7,
   "metadata": {},
   "outputs": [
    {
     "name": "stdout",
     "output_type": "stream",
     "text": [
      "¡Hola Carooo!\n"
     ]
    }
   ],
   "source": [
    "nombre = input ('Ingrese aquí su nombre')\n",
    "\n",
    "print (f'¡Hola {nombre}!')"
   ]
  },
  {
   "cell_type": "markdown",
   "metadata": {},
   "source": [
    "#### 4. Crear un programa que pida al usuario dos números enteros y muestre por pantalla la división de < n > entre < m > da un cociente < c > y un resto < r > donde < n > y < m > son los números introducidos por el usuario, y < c > y < r > son el cociente y el resto de la división entera respectivamente."
   ]
  },
  {
   "cell_type": "code",
   "execution_count": 13,
   "metadata": {},
   "outputs": [
    {
     "name": "stdout",
     "output_type": "stream",
     "text": [
      "n: 10\n",
      "m: 5\n",
      "división: 2.0\n",
      "c: 2\n",
      "r: 0\n"
     ]
    }
   ],
   "source": [
    "n = int(input ('Ingrese aquí un número entero'))\n",
    "m = int(input ('Ingrese aquí otro número entero'))\n",
    "\n",
    "print (f'n: {n}\\nm: {m}\\ndivisión: {n / m}\\nc: {n // m}\\nr: {n % m}')"
   ]
  },
  {
   "cell_type": "markdown",
   "metadata": {},
   "source": [
    "#### 5. Una juguetería tiene mucho éxito en dos de sus productos: payasos y muñecas. Suele hacer venta por correo y la empresa de logística les cobra por peso de cada paquete así que deben calcular el peso de los payasos y muñecas que saldrán en cada paquete a demanda. Cada payaso pesa 112 g y cada muñeca 75 g. Escribir un programa que lea el número de payasos y muñecas vendidos en el último pedido y calcule el peso total del paquete que será enviado."
   ]
  },
  {
   "cell_type": "code",
   "execution_count": 20,
   "metadata": {},
   "outputs": [
    {
     "name": "stdout",
     "output_type": "stream",
     "text": [
      "1.57 kg\n"
     ]
    }
   ],
   "source": [
    "payasos = int(input('Ingresar cantidad de payasos'))\n",
    "muñecas = int(input('Ingresar cantidad de muñecas'))\n",
    "\n",
    "if payasos > 0:\n",
    "    peso_payasos = (payasos * 112)\n",
    "if muñecas > 0:\n",
    "    peso_muñecas = (muñecas * 75)\n",
    "print (f'{(peso_payasos + peso_muñecas) / 1000} kg')"
   ]
  },
  {
   "cell_type": "markdown",
   "metadata": {},
   "source": [
    "otra opción:"
   ]
  },
  {
   "cell_type": "code",
   "execution_count": 22,
   "metadata": {},
   "outputs": [
    {
     "name": "stdout",
     "output_type": "stream",
     "text": [
      "Payasos vendidos: 9\n",
      "Peso total de payasos: 1008 g\n",
      "Muñecas vendidas: 9\n",
      "Peso total de muñecas: 675 g\n",
      "Peso total del pedido: 1683 g\n"
     ]
    }
   ],
   "source": [
    "payasos_g = 112\n",
    "muñecas_g = 75\n",
    "\n",
    "cant_payasos = int(input('¿Cuántos payasos se vendieron?'))\n",
    "cant_muñecas = int(input('¿Cuántas muñecas se vendieron?'))\n",
    "\n",
    "payasos_total = payasos_g*cant_payasos\n",
    "muñecas_total = muñecas_g*cant_muñecas\n",
    "\n",
    "print(f'Payasos vendidos: {cant_payasos}\\nPeso total de payasos: {payasos_total} g\\nMuñecas vendidas: {cant_muñecas}\\nPeso total de muñecas: {muñecas_total} g\\nPeso total del pedido: {payasos_total+muñecas_total} g')"
   ]
  },
  {
   "cell_type": "markdown",
   "metadata": {},
   "source": [
    "#### 6. Crear un programa que pregunte el nombre del usuario en la consola y después de que el usuario lo introduzca muestre por pantalla \\<nombre\\> tiene < n > letras, donde < nombre > es el nombre de usuario y < n > es el número de letras que tienen el nombre."
   ]
  },
  {
   "cell_type": "code",
   "execution_count": 26,
   "metadata": {},
   "outputs": [
    {
     "name": "stdout",
     "output_type": "stream",
     "text": [
      "Caroooo tiene 7 letras.\n"
     ]
    }
   ],
   "source": [
    "nombre = input ('Ingrese su nombre')\n",
    "print (f'{nombre} tiene {len(nombre)} letras.')"
   ]
  },
  {
   "cell_type": "markdown",
   "metadata": {},
   "source": [
    "#### 7. Crear un programa que pida al usuario que introduzca una frase y una letra y muestre por pantalla cuántas veces aparece dicha letra en la frase."
   ]
  },
  {
   "cell_type": "code",
   "execution_count": null,
   "metadata": {},
   "outputs": [],
   "source": []
  },
  {
   "cell_type": "markdown",
   "metadata": {},
   "source": [
    "#### 8. Crear un programa que pregunte al usuario su edad y muestre por pantalla si es mayor de edad o no."
   ]
  },
  {
   "cell_type": "code",
   "execution_count": null,
   "metadata": {},
   "outputs": [],
   "source": []
  },
  {
   "cell_type": "markdown",
   "metadata": {},
   "source": [
    "#### 9. Crear un programa que pida al usuario un número entero y muestre por pantalla si es par o impar."
   ]
  },
  {
   "cell_type": "code",
   "execution_count": null,
   "metadata": {},
   "outputs": [],
   "source": []
  },
  {
   "cell_type": "markdown",
   "metadata": {},
   "source": [
    "#### 10. Crear un programa que pida al usuario una palabra y la muestre por pantalla 10 veces."
   ]
  },
  {
   "cell_type": "code",
   "execution_count": null,
   "metadata": {},
   "outputs": [],
   "source": []
  },
  {
   "cell_type": "markdown",
   "metadata": {},
   "source": [
    "#### 11. Crear un programa que pida al usuario una palabra y un número y muestre por pantalla la palabra la cantidad de número. Ejemplo si número es 5, mostrar la palabra 5 veces."
   ]
  },
  {
   "cell_type": "code",
   "execution_count": null,
   "metadata": {},
   "outputs": [],
   "source": []
  },
  {
   "cell_type": "markdown",
   "metadata": {},
   "source": [
    "#### 12. Crear un programa que pregunte al usuario su edad y muestre por pantalla todos los años que ha cumplido (desde 1 hasta su edad)."
   ]
  },
  {
   "cell_type": "code",
   "execution_count": null,
   "metadata": {},
   "outputs": [],
   "source": []
  },
  {
   "cell_type": "markdown",
   "metadata": {},
   "source": [
    "#### 13. Crear un programa que muestre por pantalla la tabla de multiplicar del 1 al 10. Pista: va un for dentro de otro for."
   ]
  },
  {
   "cell_type": "code",
   "execution_count": null,
   "metadata": {},
   "outputs": [],
   "source": []
  },
  {
   "cell_type": "markdown",
   "metadata": {},
   "source": [
    "#### 14. Crear un programa que muestre el eco de todo lo que el usuario introduzca hasta que el usuario escriba “salir” que terminará."
   ]
  },
  {
   "cell_type": "code",
   "execution_count": null,
   "metadata": {},
   "outputs": [],
   "source": []
  },
  {
   "cell_type": "markdown",
   "metadata": {},
   "source": [
    "#### 15. Crear un programa que almacene las asignaturas de un curso (por ejemplo Matemáticas, Física, Química, Historia y Lengua) en una lista, pregunte al usuario la nota que ha sacado en cada asignatura, y después las muestre por pantalla con el mensaje En < asignatura > has sacado < nota > donde < asignatura > es cada una des las asignaturas de la lista y < nota > cada una de las correspondientes notas introducidas por el usuario."
   ]
  },
  {
   "cell_type": "code",
   "execution_count": null,
   "metadata": {},
   "outputs": [],
   "source": []
  },
  {
   "cell_type": "markdown",
   "metadata": {},
   "source": [
    "#### 16. Crear un programa que guarde en una variable el diccionario {'Euro':'€', 'Dollar':'$', 'Yen':'¥'}, pregunte al usuario por una divisa y muestre su símbolo o un mensaje de aviso si la divisa no está en el diccionario."
   ]
  },
  {
   "cell_type": "code",
   "execution_count": null,
   "metadata": {},
   "outputs": [],
   "source": []
  },
  {
   "cell_type": "markdown",
   "metadata": {},
   "source": [
    "#### 17. Crear un programa que pida al usuario una letra e indique si es una vocal o no."
   ]
  },
  {
   "cell_type": "code",
   "execution_count": null,
   "metadata": {},
   "outputs": [],
   "source": []
  }
 ],
 "metadata": {
  "kernelspec": {
   "display_name": "Python 3",
   "language": "python",
   "name": "python3"
  },
  "language_info": {
   "codemirror_mode": {
    "name": "ipython",
    "version": 3
   },
   "file_extension": ".py",
   "mimetype": "text/x-python",
   "name": "python",
   "nbconvert_exporter": "python",
   "pygments_lexer": "ipython3",
   "version": "3.12.1"
  }
 },
 "nbformat": 4,
 "nbformat_minor": 2
}
