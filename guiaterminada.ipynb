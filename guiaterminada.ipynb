{
 "cells": [
  {
   "cell_type": "markdown",
   "metadata": {},
   "source": [
    "# Python 🐍 Guía de Ejercicios"
   ]
  },
  {
   "cell_type": "markdown",
   "metadata": {},
   "source": [
    "#### 1. Crear un programa que muestre por pantalla el texto ¡Hola Mundo!"
   ]
  },
  {
   "cell_type": "code",
   "execution_count": 23,
   "metadata": {},
   "outputs": [
    {
     "name": "stdout",
     "output_type": "stream",
     "text": [
      "¡Hola Mundo!\n"
     ]
    }
   ],
   "source": [
    "print ('¡Hola Mundo!')"
   ]
  },
  {
   "cell_type": "markdown",
   "metadata": {},
   "source": [
    "#### 2. Crear un programa que almacene el texto ¡Hola Mundo! en una variable y luego imprima dicho contenido por pantalla."
   ]
  },
  {
   "cell_type": "code",
   "execution_count": 24,
   "metadata": {},
   "outputs": [
    {
     "name": "stdout",
     "output_type": "stream",
     "text": [
      "¡Hola Mundo!\n"
     ]
    }
   ],
   "source": [
    "hola_mundo = '¡Hola Mundo!'\n",
    "\n",
    "print (hola_mundo)"
   ]
  },
  {
   "cell_type": "markdown",
   "metadata": {},
   "source": [
    "#### 3. Crear un programa que pregunte el nombre del usuario y después de que el usuario lo introduzca muestre por pantalla la cadena ¡Hola < nombre >!, donde < nombre > es el nombre que el usuario haya introducido."
   ]
  },
  {
   "cell_type": "code",
   "execution_count": 25,
   "metadata": {},
   "outputs": [
    {
     "name": "stdout",
     "output_type": "stream",
     "text": [
      "¡Hola Caro!\n"
     ]
    }
   ],
   "source": [
    "nombre = input ('Ingrese aquí su nombre')\n",
    "\n",
    "print (f'¡Hola {nombre}!')"
   ]
  },
  {
   "cell_type": "markdown",
   "metadata": {},
   "source": [
    "#### 4. Crear un programa que pida al usuario dos números enteros y muestre por pantalla la división de < n > entre < m > da un cociente < c > y un resto < r > donde < n > y < m > son los números introducidos por el usuario, y < c > y < r > son el cociente y el resto de la división entera respectivamente."
   ]
  },
  {
   "cell_type": "code",
   "execution_count": 26,
   "metadata": {},
   "outputs": [
    {
     "name": "stdout",
     "output_type": "stream",
     "text": [
      "n: 10\n",
      "m: 5\n",
      "división: 2.0\n",
      "c: 2\n",
      "r: 0\n"
     ]
    }
   ],
   "source": [
    "n = int(input ('Ingrese aquí un número entero'))\n",
    "m = int(input ('Ingrese aquí otro número entero'))\n",
    "\n",
    "print (f'n: {n}\\nm: {m}\\ndivisión: {n / m}\\nc: {n // m}\\nr: {n % m}')"
   ]
  },
  {
   "cell_type": "markdown",
   "metadata": {},
   "source": [
    "#### 5. Una juguetería tiene mucho éxito en dos de sus productos: payasos y muñecas. Suele hacer venta por correo y la empresa de logística les cobra por peso de cada paquete así que deben calcular el peso de los payasos y muñecas que saldrán en cada paquete a demanda. Cada payaso pesa 112 g y cada muñeca 75 g. Escribir un programa que lea el número de payasos y muñecas vendidos en el último pedido y calcule el peso total del paquete que será enviado."
   ]
  },
  {
   "cell_type": "code",
   "execution_count": 27,
   "metadata": {},
   "outputs": [
    {
     "name": "stdout",
     "output_type": "stream",
     "text": [
      "0.636 kg\n"
     ]
    }
   ],
   "source": [
    "payasos = int(input('Ingresar cantidad de payasos'))\n",
    "muñecas = int(input('Ingresar cantidad de muñecas'))\n",
    "\n",
    "if payasos > 0:\n",
    "    peso_payasos = (payasos * 112)\n",
    "if muñecas > 0:\n",
    "    peso_muñecas = (muñecas * 75)\n",
    "print (f'{(peso_payasos + peso_muñecas) / 1000} kg')"
   ]
  },
  {
   "cell_type": "markdown",
   "metadata": {},
   "source": [
    "otra opción:"
   ]
  },
  {
   "cell_type": "code",
   "execution_count": 28,
   "metadata": {},
   "outputs": [
    {
     "name": "stdout",
     "output_type": "stream",
     "text": [
      "Payasos vendidos: 6\n",
      "Peso total de payasos: 672 g\n",
      "Muñecas vendidas: 4\n",
      "Peso total de muñecas: 300 g\n",
      "Peso total del pedido: 972 g\n"
     ]
    }
   ],
   "source": [
    "payasos_g = 112\n",
    "muñecas_g = 75\n",
    "\n",
    "cant_payasos = int(input('¿Cuántos payasos se vendieron?'))\n",
    "cant_muñecas = int(input('¿Cuántas muñecas se vendieron?'))\n",
    "\n",
    "payasos_total = payasos_g*cant_payasos\n",
    "muñecas_total = muñecas_g*cant_muñecas\n",
    "\n",
    "print(f'Payasos vendidos: {cant_payasos}\\nPeso total de payasos: {payasos_total} g\\nMuñecas vendidas: {cant_muñecas}\\nPeso total de muñecas: {muñecas_total} g\\nPeso total del pedido: {payasos_total+muñecas_total} g')"
   ]
  },
  {
   "cell_type": "markdown",
   "metadata": {},
   "source": [
    "#### 6. Crear un programa que pregunte el nombre del usuario en la consola y después de que el usuario lo introduzca muestre por pantalla \\<nombre\\> tiene < n > letras, donde < nombre > es el nombre de usuario y < n > es el número de letras que tienen el nombre."
   ]
  },
  {
   "cell_type": "code",
   "execution_count": 29,
   "metadata": {},
   "outputs": [
    {
     "name": "stdout",
     "output_type": "stream",
     "text": [
      "cramososoniuk tiene 13 letras.\n"
     ]
    }
   ],
   "source": [
    "nombre = input ('Ingrese su nombre')\n",
    "print (f'{nombre} tiene {len(nombre)} letras.')"
   ]
  },
  {
   "cell_type": "markdown",
   "metadata": {},
   "source": [
    "#### 7. Crear un programa que pida al usuario que introduzca una frase y una letra y muestre por pantalla cuántas veces aparece dicha letra en la frase."
   ]
  },
  {
   "cell_type": "code",
   "execution_count": 30,
   "metadata": {},
   "outputs": [
    {
     "name": "stdout",
     "output_type": "stream",
     "text": [
      "La letra o aparece 3 veces en la frase \"hola como estas?\".\n"
     ]
    }
   ],
   "source": [
    "frase = input('Ingrese una frase').lower()\n",
    "letra = input('Ingrese una letra').lower()\n",
    "contador = 0\n",
    "\n",
    "for cantidadLetras in frase:\n",
    "    if cantidadLetras == letra:\n",
    "        contador += 1\n",
    "\n",
    "if contador == 1:\n",
    "    print (f'La letra {letra} aparece 1 vez en la frase \"{frase}\".')\n",
    "\n",
    "else:\n",
    "    print(f'La letra {letra} aparece {contador} veces en la frase \"{frase}\".')\n",
    "    "
   ]
  },
  {
   "cell_type": "markdown",
   "metadata": {},
   "source": [
    "#### 8. Crear un programa que pregunte al usuario su edad y muestre por pantalla si es mayor de edad o no."
   ]
  },
  {
   "cell_type": "code",
   "execution_count": 33,
   "metadata": {},
   "outputs": [
    {
     "name": "stdout",
     "output_type": "stream",
     "text": [
      "Mayor de edad\n"
     ]
    }
   ],
   "source": [
    "edad = int(input ('Ingrese aquí su edad'))\n",
    "\n",
    "if edad <= 18:\n",
    "   print ('Menor de edad')\n",
    "else:\n",
    "    print ('Mayor de edad')"
   ]
  },
  {
   "cell_type": "markdown",
   "metadata": {},
   "source": [
    "#### 9. Crear un programa que pida al usuario un número entero y muestre por pantalla si es par o impar."
   ]
  },
  {
   "cell_type": "code",
   "execution_count": 34,
   "metadata": {},
   "outputs": [
    {
     "name": "stdout",
     "output_type": "stream",
     "text": [
      "Número par\n"
     ]
    }
   ],
   "source": [
    "numero = int(input('Ingrese un número'))\n",
    "\n",
    "if numero % 2 == 0 :\n",
    "    print('Número par')\n",
    "\n",
    "else :\n",
    "    print('Número impar')"
   ]
  },
  {
   "cell_type": "markdown",
   "metadata": {},
   "source": [
    "#### 10. Crear un programa que pida al usuario una palabra y la muestre por pantalla 10 veces."
   ]
  },
  {
   "cell_type": "code",
   "execution_count": 35,
   "metadata": {},
   "outputs": [
    {
     "name": "stdout",
     "output_type": "stream",
     "text": [
      "Hola\n",
      "Hola\n",
      "Hola\n",
      "Hola\n",
      "Hola\n",
      "Hola\n",
      "Hola\n",
      "Hola\n",
      "Hola\n",
      "Hola\n"
     ]
    }
   ],
   "source": [
    "ingresar_palabra = input('Ingrese una palabra')\n",
    "\n",
    "for i in range (10):\n",
    "    print (ingresar_palabra)"
   ]
  },
  {
   "cell_type": "markdown",
   "metadata": {},
   "source": [
    "#### 11. Crear un programa que pida al usuario una palabra y un número y muestre por pantalla la palabra la cantidad de número. Ejemplo si número es 5, mostrar la palabra 5 veces."
   ]
  },
  {
   "cell_type": "code",
   "execution_count": 36,
   "metadata": {},
   "outputs": [
    {
     "name": "stdout",
     "output_type": "stream",
     "text": [
      "Chicle\n",
      "Chicle\n"
     ]
    }
   ],
   "source": [
    "palabra = input ('Ingrese una palabra')\n",
    "número = int(input('Ingrese un número'))\n",
    "\n",
    "for i in range (número):\n",
    "    print (palabra)"
   ]
  },
  {
   "cell_type": "markdown",
   "metadata": {},
   "source": [
    "#### 12. Crear un programa que pregunte al usuario su edad y muestre por pantalla todos los años que ha cumplido (desde 1 hasta su edad)."
   ]
  },
  {
   "cell_type": "code",
   "execution_count": 37,
   "metadata": {},
   "outputs": [
    {
     "name": "stdout",
     "output_type": "stream",
     "text": [
      "1\n",
      "2\n",
      "3\n",
      "4\n",
      "5\n",
      "6\n",
      "7\n",
      "8\n",
      "9\n",
      "10\n",
      "11\n",
      "12\n",
      "13\n",
      "14\n",
      "15\n",
      "16\n",
      "17\n",
      "18\n",
      "19\n",
      "20\n",
      "21\n",
      "22\n",
      "23\n",
      "24\n",
      "25\n",
      "26\n",
      "27\n",
      "28\n"
     ]
    }
   ],
   "source": [
    "edad = int(input ('Ingrese su edad'))\n",
    "\n",
    "for i in range (edad):\n",
    "    print (i+1)"
   ]
  },
  {
   "cell_type": "markdown",
   "metadata": {},
   "source": [
    "otra manera:"
   ]
  },
  {
   "cell_type": "code",
   "execution_count": 38,
   "metadata": {},
   "outputs": [
    {
     "name": "stdout",
     "output_type": "stream",
     "text": [
      "1\n",
      "2\n",
      "3\n",
      "4\n",
      "5\n",
      "6\n",
      "7\n",
      "8\n",
      "9\n",
      "10\n",
      "11\n",
      "12\n",
      "13\n",
      "14\n",
      "15\n",
      "16\n",
      "17\n",
      "18\n",
      "19\n",
      "20\n",
      "21\n",
      "22\n",
      "23\n",
      "24\n",
      "25\n",
      "26\n",
      "27\n",
      "28\n"
     ]
    }
   ],
   "source": [
    "edad = int(input ('Ingrese su edad'))\n",
    "\n",
    "for i in range (1, edad+1):\n",
    "    print (i)"
   ]
  },
  {
   "cell_type": "markdown",
   "metadata": {},
   "source": [
    "#### 13. Crear un programa que muestre por pantalla la tabla de multiplicar del 1 al 10. Pista: va un for dentro de otro for."
   ]
  },
  {
   "cell_type": "code",
   "execution_count": 39,
   "metadata": {},
   "outputs": [
    {
     "name": "stdout",
     "output_type": "stream",
     "text": [
      "1 x 1 = 1\t1 x 2 = 2\t1 x 3 = 3\t1 x 4 = 4\t1 x 5 = 5\t1 x 6 = 6\t1 x 7 = 7\t1 x 8 = 8\t1 x 9 = 9\t1 x 10 = 10\t\n",
      "2 x 1 = 2\t2 x 2 = 4\t2 x 3 = 6\t2 x 4 = 8\t2 x 5 = 10\t2 x 6 = 12\t2 x 7 = 14\t2 x 8 = 16\t2 x 9 = 18\t2 x 10 = 20\t\n",
      "3 x 1 = 3\t3 x 2 = 6\t3 x 3 = 9\t3 x 4 = 12\t3 x 5 = 15\t3 x 6 = 18\t3 x 7 = 21\t3 x 8 = 24\t3 x 9 = 27\t3 x 10 = 30\t\n",
      "4 x 1 = 4\t4 x 2 = 8\t4 x 3 = 12\t4 x 4 = 16\t4 x 5 = 20\t4 x 6 = 24\t4 x 7 = 28\t4 x 8 = 32\t4 x 9 = 36\t4 x 10 = 40\t\n",
      "5 x 1 = 5\t5 x 2 = 10\t5 x 3 = 15\t5 x 4 = 20\t5 x 5 = 25\t5 x 6 = 30\t5 x 7 = 35\t5 x 8 = 40\t5 x 9 = 45\t5 x 10 = 50\t\n",
      "6 x 1 = 6\t6 x 2 = 12\t6 x 3 = 18\t6 x 4 = 24\t6 x 5 = 30\t6 x 6 = 36\t6 x 7 = 42\t6 x 8 = 48\t6 x 9 = 54\t6 x 10 = 60\t\n",
      "7 x 1 = 7\t7 x 2 = 14\t7 x 3 = 21\t7 x 4 = 28\t7 x 5 = 35\t7 x 6 = 42\t7 x 7 = 49\t7 x 8 = 56\t7 x 9 = 63\t7 x 10 = 70\t\n",
      "8 x 1 = 8\t8 x 2 = 16\t8 x 3 = 24\t8 x 4 = 32\t8 x 5 = 40\t8 x 6 = 48\t8 x 7 = 56\t8 x 8 = 64\t8 x 9 = 72\t8 x 10 = 80\t\n",
      "9 x 1 = 9\t9 x 2 = 18\t9 x 3 = 27\t9 x 4 = 36\t9 x 5 = 45\t9 x 6 = 54\t9 x 7 = 63\t9 x 8 = 72\t9 x 9 = 81\t9 x 10 = 90\t\n",
      "10 x 1 = 10\t10 x 2 = 20\t10 x 3 = 30\t10 x 4 = 40\t10 x 5 = 50\t10 x 6 = 60\t10 x 7 = 70\t10 x 8 = 80\t10 x 9 = 90\t10 x 10 = 100\t\n"
     ]
    }
   ],
   "source": [
    "for a in range(1,11):\n",
    "    for b in range(1,11):\n",
    "        print(f'{a} x {b} = {a*b}', end='\\t')\n",
    "    print()"
   ]
  },
  {
   "cell_type": "markdown",
   "metadata": {},
   "source": [
    "#### 14. Crear un programa que muestre el eco de todo lo que el usuario introduzca hasta que el usuario escriba “salir” que terminará."
   ]
  },
  {
   "cell_type": "code",
   "execution_count": 40,
   "metadata": {},
   "outputs": [
    {
     "name": "stdout",
     "output_type": "stream",
     "text": [
      "Hola\n",
      "Como estás?\n",
      "Espero que bien\n",
      "-Fin-\n"
     ]
    }
   ],
   "source": [
    "palabras = input('Escriba \"salir\"')\n",
    "\n",
    "while palabras.upper() != 'SALIR':\n",
    "    print (palabras)\n",
    "    palabras = input('Escriba \"salir\"')\n",
    "\n",
    "else :\n",
    "    print ('-Fin-')"
   ]
  },
  {
   "cell_type": "markdown",
   "metadata": {},
   "source": [
    "#### 15. Crear un programa que almacene las asignaturas de un curso (por ejemplo Matemáticas, Física, Química, Historia y Lengua) en una lista, pregunte al usuario la nota que ha sacado en cada asignatura, y después las muestre por pantalla con el mensaje En < asignatura > has sacado < nota > donde < asignatura > es cada una de las asignaturas de la lista y < nota > cada una de las correspondientes notas introducidas por el usuario."
   ]
  },
  {
   "cell_type": "code",
   "execution_count": 41,
   "metadata": {},
   "outputs": [
    {
     "name": "stdout",
     "output_type": "stream",
     "text": [
      "En Matemática has sacado 8.\n",
      "En Física has sacado 7.\n",
      "En Química has sacado 9.\n",
      "En Historia has sacado 8.\n",
      "En Lengua has sacado 9.\n"
     ]
    }
   ],
   "source": [
    "asignaturas = ['Matemática', 'Física', 'Química', 'Historia', 'Lengua']\n",
    "\n",
    "matematica = input('Nota de Matemática')\n",
    "fisica = input('Nota de Física')\n",
    "quimica = input('Nota de Química')\n",
    "historia = input('Nota de Historia')\n",
    "lengua = input('Nota de Lengua')\n",
    "\n",
    "print(f'''En {asignaturas[0]} has sacado {matematica}.\n",
    "En {asignaturas[1]} has sacado {fisica}.\n",
    "En {asignaturas[2]} has sacado {quimica}.\n",
    "En {asignaturas[3]} has sacado {historia}.\n",
    "En {asignaturas[4]} has sacado {lengua}.''')"
   ]
  },
  {
   "cell_type": "markdown",
   "metadata": {},
   "source": [
    "Otra opción"
   ]
  },
  {
   "cell_type": "code",
   "execution_count": 42,
   "metadata": {},
   "outputs": [
    {
     "name": "stdout",
     "output_type": "stream",
     "text": [
      "En Matemática has sacado 6\n",
      "En Física has sacado 4\n",
      "En Química has sacado 8\n",
      "En Historia has sacado 3\n",
      "En Lengua has sacado 5\n"
     ]
    }
   ],
   "source": [
    "asignaturas = ['Matemática', 'Física', 'Química', 'Historia', 'Lengua']\n",
    "notas = []\n",
    "\n",
    "for asignatura in asignaturas:\n",
    "    nota = int(input(f'Nota en {asignatura}'))\n",
    "    notas.append(nota)\n",
    "\n",
    "for i in range(len(asignaturas)):\n",
    "    print(f'En {asignaturas[i]} has sacado {notas[i]}')"
   ]
  },
  {
   "cell_type": "markdown",
   "metadata": {},
   "source": [
    "#### 16. Crear un programa que guarde en una variable el diccionario {'Euro':'€', 'Dollar':'$', 'Yen':'¥'}, pregunte al usuario por una divisa y muestre su símbolo o un mensaje de aviso si la divisa no está en el diccionario."
   ]
  },
  {
   "cell_type": "code",
   "execution_count": 43,
   "metadata": {},
   "outputs": [
    {
     "name": "stdout",
     "output_type": "stream",
     "text": [
      "€\n"
     ]
    }
   ],
   "source": [
    "diccionario = {'Euro':'€', 'Dollar':'$', 'Yen':'¥'}\n",
    "divisa = input('Ingrese una divisa').capitalize()\n",
    "\n",
    "if divisa in diccionario.keys():\n",
    "    print(diccionario[divisa])\n",
    "else:\n",
    "    print('Divisa no encontrada')"
   ]
  },
  {
   "cell_type": "markdown",
   "metadata": {},
   "source": [
    "#### 17. Crear un programa que pida al usuario una letra e indique si es una vocal o no."
   ]
  },
  {
   "cell_type": "code",
   "execution_count": 44,
   "metadata": {},
   "outputs": [
    {
     "name": "stdout",
     "output_type": "stream",
     "text": [
      "Vocal\n"
     ]
    }
   ],
   "source": [
    "letra = input('Ingresar letra').lower()\n",
    "\n",
    "vocales = ['a', 'e', 'i', 'o', 'u']\n",
    "\n",
    "if letra in vocales :\n",
    "    print ('Vocal')\n",
    "\n",
    "else :\n",
    "    print ('Consonante')"
   ]
  },
  {
   "cell_type": "markdown",
   "metadata": {},
   "source": [
    "Otra opción"
   ]
  },
  {
   "cell_type": "code",
   "execution_count": 45,
   "metadata": {},
   "outputs": [
    {
     "name": "stdout",
     "output_type": "stream",
     "text": [
      "\"P\" no es una vocal\n"
     ]
    }
   ],
   "source": [
    "vocales = ['A','E','I','O','U']\n",
    "letra = input('Ingrese una letra').upper()\n",
    "\n",
    "if len(letra) == 1:\n",
    "    if letra in vocales:\n",
    "        print(f'\"{letra}\" es una vocal')\n",
    "    else:\n",
    "        print(f'\"{letra}\" no es una vocal')\n",
    "else:\n",
    "    print('Error de formato')"
   ]
  },
  {
   "cell_type": "markdown",
   "metadata": {},
   "source": [
    "#### Probando funciones de UPPER, LOWER y CAPITALIZE"
   ]
  },
  {
   "cell_type": "code",
   "execution_count": 46,
   "metadata": {},
   "outputs": [
    {
     "name": "stdout",
     "output_type": "stream",
     "text": [
      "Hola hola HOLA HoLaSd\n",
      "HOLA HOLA HOLA HOLASD\n",
      "hola hola hola holasd\n",
      "Hola hola hola holasd\n"
     ]
    }
   ],
   "source": [
    "valor = input('Texto:')\n",
    "\n",
    "print(valor)\n",
    "print(valor.upper())\n",
    "print(valor.lower())\n",
    "print(valor.capitalize())"
   ]
  }
 ],
 "metadata": {
  "kernelspec": {
   "display_name": "Python 3",
   "language": "python",
   "name": "python3"
  },
  "language_info": {
   "codemirror_mode": {
    "name": "ipython",
    "version": 3
   },
   "file_extension": ".py",
   "mimetype": "text/x-python",
   "name": "python",
   "nbconvert_exporter": "python",
   "pygments_lexer": "ipython3",
   "version": "3.12.1"
  }
 },
 "nbformat": 4,
 "nbformat_minor": 2
}
